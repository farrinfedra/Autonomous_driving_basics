{
 "cells": [
  {
   "cell_type": "code",
   "execution_count": 34,
   "metadata": {},
   "outputs": [],
   "source": [
    "import os\n",
    "import json\n",
    "import numpy as np\n",
    "data = []\n",
    "data_root = '/userfiles/ssafadoust20/expert_data/train'\n",
    "image_path = os.path.join(data_root, 'rgb')\n",
    "measurements_path = os.path.join(data_root, 'measurements')"
   ]
  },
  {
   "cell_type": "code",
   "execution_count": 32,
   "metadata": {},
   "outputs": [],
   "source": [
    "json_path = os.path.join(measurements_path , os.listdir(measurements_path)[0])"
   ]
  },
  {
   "cell_type": "code",
   "execution_count": 36,
   "metadata": {},
   "outputs": [],
   "source": [
    "with open(json_path, 'r') as f:\n",
    "    json_data = json.load(f)\n",
    "measurements = np.array([json_data['speed'], json_data['throttle'], json_data['brake'],\n",
    "                            json_data['steer'], json_data['command']])"
   ]
  },
  {
   "cell_type": "code",
   "execution_count": 38,
   "metadata": {},
   "outputs": [
    {
     "data": {
      "text/plain": [
       "array([4.93179193e+00, 2.53836632e-01, 0.00000000e+00, 5.18415482e-06,\n",
       "       2.00000000e+00])"
      ]
     },
     "execution_count": 38,
     "metadata": {},
     "output_type": "execute_result"
    }
   ],
   "source": [
    "measurements"
   ]
  },
  {
   "cell_type": "code",
   "execution_count": 35,
   "metadata": {},
   "outputs": [],
   "source": [
    "import torchvision.models as models"
   ]
  },
  {
   "cell_type": "code",
   "execution_count": 36,
   "metadata": {},
   "outputs": [],
   "source": [
    "model = models.resnet18(pretrained=True)"
   ]
  },
  {
   "cell_type": "code",
   "execution_count": 37,
   "metadata": {
    "jupyter": {
     "outputs_hidden": true
    },
    "tags": []
   },
   "outputs": [],
   "source": [
    "# for name, module in model.named_modules():\n",
    "#     print(name, module)"
   ]
  },
  {
   "cell_type": "code",
   "execution_count": 38,
   "metadata": {},
   "outputs": [],
   "source": [
    "for param in model.parameters():\n",
    "    param.requires_grad = False"
   ]
  },
  {
   "cell_type": "code",
   "execution_count": 54,
   "metadata": {},
   "outputs": [],
   "source": [
    "# load and show a sample image from the dataset\n",
    "import matplotlib.pyplot as plt\n",
    "import numpy as np\n",
    "from PIL import Image\n",
    "import os\n",
    "\n",
    "data_root = '/userfiles/ssafadoust20/expert_data/train'\n",
    "image_path = os.path.join(data_root, 'rgb')\n",
    "img_path = os.path.join(image_path, os.listdir(image_path)[0])\n",
    "img = Image.open(img_path).convert('RGB')\n",
    "transform = transforms.Compose([\n",
    "    transforms.Resize(256),\n",
    "    transforms.CenterCrop(224),\n",
    "    transforms.ToTensor(),\n",
    "])\n",
    "img = transform(img)\n"
   ]
  },
  {
   "cell_type": "code",
   "execution_count": 57,
   "metadata": {},
   "outputs": [],
   "source": [
    "import torch.nn as nn\n",
    "model = nn.Sequential(*list(model.children())[:-1])\n"
   ]
  },
  {
   "cell_type": "code",
   "execution_count": 61,
   "metadata": {},
   "outputs": [
    {
     "data": {
      "text/plain": [
       "torch.Size([1, 512, 1, 1])"
      ]
     },
     "execution_count": 61,
     "metadata": {},
     "output_type": "execute_result"
    }
   ],
   "source": [
    "model(img.unsqueeze(0)).shape"
   ]
  },
  {
   "cell_type": "code",
   "execution_count": 41,
   "metadata": {},
   "outputs": [],
   "source": [
    "# num_features = model.fc.in_features\n",
    "# model.fc = nn.Sequential(\n",
    "#     nn.Linear(num_features, 512),\n",
    "#     nn.ReLU(),\n",
    "#     nn.Dropout(p=0.5), #may remove dropout\n",
    "#     nn.Linear(512, 2)\n",
    "# )\n"
   ]
  },
  {
   "cell_type": "code",
   "execution_count": 56,
   "metadata": {},
   "outputs": [],
   "source": [
    "import torchvision.transforms as transforms\n",
    "import numpy as np\n",
    "import torch"
   ]
  },
  {
   "cell_type": "code",
   "execution_count": 45,
   "metadata": {},
   "outputs": [
    {
     "name": "stdout",
     "output_type": "stream",
     "text": [
      "torch.Size([1, 1000])\n"
     ]
    }
   ],
   "source": [
    "import torch\n",
    "import torchvision.transforms as transforms\n",
    "import torchvision.models as models\n",
    "from PIL import Image\n",
    "import numpy as np\n",
    "\n",
    "# Create a random numpy array to represent an image\n",
    "image_array = np.random.rand(224, 224, 3) * 255\n",
    "image_array = np.uint8(image_array)\n",
    "\n",
    "# Convert the numpy array to a PIL image\n",
    "pil_image = Image.fromarray(image_array)\n",
    "\n",
    "# Create a transform to preprocess the image\n",
    "transform = transforms.Compose([\n",
    "    transforms.Resize(256),\n",
    "    transforms.CenterCrop(224),\n",
    "    transforms.ToTensor(),\n",
    "    transforms.Normalize(\n",
    "        mean=[0.485, 0.456, 0.406],\n",
    "        std=[0.229, 0.224, 0.225]\n",
    "    )\n",
    "])\n",
    "\n",
    "# Preprocess the image\n",
    "preprocessed_image = transform(pil_image)\n",
    "\n",
    "# Load a pre-trained ResNet18 model\n",
    "resnet18 = models.resnet18(pretrained=True)\n",
    "\n",
    "# Disable gradient calculation to speed up inference\n",
    "with torch.no_grad():\n",
    "    # Reshape the input tensor to have a batch size of 1\n",
    "    input_tensor = preprocessed_image.unsqueeze(0)\n",
    "\n",
    "    # Pass the input tensor through the ResNet18 model\n",
    "    output = resnet18(input_tensor)\n",
    "\n",
    "# Print the output tensor shape\n",
    "print(output.shape)\n"
   ]
  },
  {
   "cell_type": "code",
   "execution_count": 47,
   "metadata": {},
   "outputs": [],
   "source": []
  },
  {
   "cell_type": "code",
   "execution_count": 50,
   "metadata": {},
   "outputs": [
    {
     "name": "stdout",
     "output_type": "stream",
     "text": [
      "torch.Size([1, 512, 1, 1])\n"
     ]
    }
   ],
   "source": [
    "import torch\n",
    "import torchvision.transforms as transforms\n",
    "import torchvision.models as models\n",
    "from PIL import Image\n",
    "\n",
    "# Load a pre-trained ResNet18 model\n",
    "resnet18 = models.resnet18(pretrained=True)\n",
    "\n",
    "# Remove the last layer of the ResNet18 model\n",
    "resnet18_features = nn.Sequential(*list(resnet18.children())[:-1])\n",
    "\n",
    "# Set the ResNet18 model to evaluation mode\n",
    "resnet18_features.eval()\n",
    "\n",
    "# Create a transform to preprocess the image\n",
    "transform = transforms.Compose([\n",
    "    transforms.Resize(256),\n",
    "    transforms.CenterCrop(224),\n",
    "    transforms.ToTensor(),\n",
    "    transforms.Normalize(\n",
    "        mean=[0.485, 0.456, 0.406],\n",
    "        std=[0.229, 0.224, 0.225]\n",
    "    )\n",
    "])\n",
    "\n",
    "# Load an input image\n",
    "#image = Image.open('path/to/image.jpg')\n",
    "\n",
    "# Preprocess the image\n",
    "#image_tensor = transform(image)\n",
    "\n",
    "# Add a batch dimension to the image tensor\n",
    "image_tensor = preprocessed_image.unsqueeze(0)\n",
    "\n",
    "# Extract features from the input image using the ResNet18 model\n",
    "with torch.no_grad():\n",
    "    features = resnet18_features(image_tensor)\n",
    "\n",
    "# Print the shape of the features tensor\n",
    "print(features.shape)\n"
   ]
  },
  {
   "cell_type": "code",
   "execution_count": 72,
   "metadata": {},
   "outputs": [],
   "source": [
    "x = torch.tensor([1])"
   ]
  },
  {
   "cell_type": "code",
   "execution_count": 84,
   "metadata": {},
   "outputs": [],
   "source": [
    "x = features.view(features.size(0), -1)"
   ]
  },
  {
   "cell_type": "code",
   "execution_count": null,
   "metadata": {},
   "outputs": [],
   "source": [
    "nn.Sequential(*list(resnet18.children())[:-1])"
   ]
  },
  {
   "cell_type": "code",
   "execution_count": 65,
   "metadata": {},
   "outputs": [],
   "source": [
    "layers = []\n",
    "rep = [512, 512]\n",
    "drop = [0.5, 0.5]\n",
    "end = True\n",
    "for i in range(0, len(rep) -1):\n",
    "\n",
    "    fc = nn.Linear(rep[i], rep[i+1])\n",
    "    dropout = nn.Dropout2d(p=drop[i])\n",
    "    relu = nn.ReLU(inplace=True)\n",
    "\n",
    "    if i == len(rep)-2 and end:\n",
    "        layers.append(nn.Sequential(*[fc, dropout]))\n",
    "    else:\n",
    "        layers.append(nn.Sequential(*[fc, dropout, relu]))\n",
    "\n",
    "\n",
    "layers = nn.Sequential(*layers)"
   ]
  },
  {
   "cell_type": "code",
   "execution_count": 66,
   "metadata": {},
   "outputs": [
    {
     "data": {
      "text/plain": [
       "Sequential(\n",
       "  (0): Sequential(\n",
       "    (0): Linear(in_features=512, out_features=512, bias=True)\n",
       "    (1): Dropout2d(p=0.5, inplace=False)\n",
       "  )\n",
       ")"
      ]
     },
     "execution_count": 66,
     "metadata": {},
     "output_type": "execute_result"
    }
   ],
   "source": [
    "layers\n"
   ]
  },
  {
   "cell_type": "code",
   "execution_count": 67,
   "metadata": {},
   "outputs": [],
   "source": [
    "class FC(nn.Module):\n",
    "\n",
    "    def __init__(self, params=None, module_name='Default'\n",
    "                 ):\n",
    "        # TODO: Make an auto naming function for this.\n",
    "\n",
    "        super(FC, self).__init__()\n",
    "\n",
    "\n",
    "\n",
    "        self.layers = []\n",
    "        rep = [512, 512]\n",
    "        drop = [0.5, 0.5]\n",
    "        end = True\n",
    "    \n",
    "        for i in range(0, len(rep) -1):\n",
    "\n",
    "            fc = nn.Linear(rep[i], rep[i+1])\n",
    "            dropout = nn.Dropout2d(p=drop[i])\n",
    "            relu = nn.ReLU(inplace=True)\n",
    "\n",
    "            if i == len(rep)-2 and end:\n",
    "                self.layers.append(nn.Sequential(*[fc, dropout]))\n",
    "            else:\n",
    "                self.layers.append(nn.Sequential(*[fc, dropout, relu]))\n",
    "\n",
    "\n",
    "        self.layers = nn.Sequential(*self.layers)"
   ]
  },
  {
   "cell_type": "code",
   "execution_count": 68,
   "metadata": {},
   "outputs": [
    {
     "data": {
      "text/plain": [
       "FC(\n",
       "  (layers): Sequential(\n",
       "    (0): Sequential(\n",
       "      (0): Linear(in_features=512, out_features=512, bias=True)\n",
       "      (1): Dropout2d(p=0.5, inplace=False)\n",
       "    )\n",
       "  )\n",
       ")"
      ]
     },
     "execution_count": 68,
     "metadata": {},
     "output_type": "execute_result"
    }
   ],
   "source": [
    "FC()"
   ]
  },
  {
   "cell_type": "code",
   "execution_count": 76,
   "metadata": {},
   "outputs": [
    {
     "name": "stdout",
     "output_type": "stream",
     "text": [
      "1\n",
      "2\n"
     ]
    }
   ],
   "source": [
    "for i in range(1, 3):\n",
    "    print(i)"
   ]
  },
  {
   "cell_type": "code",
   "execution_count": 82,
   "metadata": {},
   "outputs": [],
   "source": [
    "m = torch.randn(1, 128)"
   ]
  },
  {
   "cell_type": "code",
   "execution_count": 85,
   "metadata": {},
   "outputs": [],
   "source": [
    "j = torch.cat((x, m), 1)"
   ]
  },
  {
   "cell_type": "code",
   "execution_count": 86,
   "metadata": {},
   "outputs": [
    {
     "data": {
      "text/plain": [
       "torch.Size([1, 640])"
      ]
     },
     "execution_count": 86,
     "metadata": {},
     "output_type": "execute_result"
    }
   ],
   "source": [
    "j.shape"
   ]
  },
  {
   "cell_type": "code",
   "execution_count": null,
   "metadata": {},
   "outputs": [],
   "source": []
  }
 ],
 "metadata": {
  "kernelspec": {
   "display_name": "ldm",
   "language": "python",
   "name": "ldm"
  },
  "language_info": {
   "codemirror_mode": {
    "name": "ipython",
    "version": 3
   },
   "file_extension": ".py",
   "mimetype": "text/x-python",
   "name": "python",
   "nbconvert_exporter": "python",
   "pygments_lexer": "ipython3",
   "version": "3.8.5"
  }
 },
 "nbformat": 4,
 "nbformat_minor": 4
}
